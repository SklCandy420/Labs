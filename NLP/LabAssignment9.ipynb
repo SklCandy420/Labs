{
 "cells": [
  {
   "cell_type": "code",
   "execution_count": 54,
   "metadata": {},
   "outputs": [],
   "source": [
    "import random\n",
    "from sklearn.feature_extraction.text import CountVectorizer\n",
    "from sklearn.linear_model import LogisticRegression\n",
    "\n",
    "with open(\"Dataset.csv\", \"r\", encoding=\"utf-8\") as file:\n",
    "    data = file.read()\n",
    "\n",
    "data_mod = data.split(\"\\n\")[1:]\n",
    "data_mod = [_.split(\",\")[:2] for _ in data_mod]\n",
    "data = []\n",
    "\n",
    "for i in data_mod:\n",
    "    if len(i) == 2:\n",
    "        if i[0] == \"ham\":\n",
    "            i[0] = 0.0\n",
    "        else:\n",
    "            i[0] = 1.0\n",
    "        data.append(i)\n",
    "\n",
    "data_mod = data\n",
    "random.shuffle(data_mod)\n",
    "test = data_mod[0:20]\n",
    "train = data_mod[20:]\n",
    "test_x = [_[1] for _ in test]\n",
    "test_y = [_[0] for _ in test]\n",
    "train_x = [_[1] for _ in train]\n",
    "train_y = [_[0] for _ in train]\n",
    "tf_vectorizer = CountVectorizer()\n",
    "train_x_tf = tf_vectorizer.fit_transform(train_x)\n",
    "test_x_tf = tf_vectorizer.transform(test_x)"
   ]
  },
  {
   "cell_type": "markdown",
   "metadata": {},
   "source": [
    "Util Functions"
   ]
  },
  {
   "cell_type": "code",
   "execution_count": 55,
   "metadata": {},
   "outputs": [],
   "source": [
    "from sklearn import metrics\n",
    "import matplotlib.pyplot as plot\n",
    "\n",
    "\n",
    "def evaluate(actual, predicted):\n",
    "    print(metrics.confusion_matrix(actual, predicted))\n",
    "    print(metrics.classification_report(actual, predicted))\n",
    "    return metrics.precision_recall_fscore_support(actual, predicted)"
   ]
  },
  {
   "cell_type": "markdown",
   "metadata": {},
   "source": [
    "Logistical Regression 1-gram"
   ]
  },
  {
   "cell_type": "code",
   "execution_count": 56,
   "metadata": {},
   "outputs": [
    {
     "name": "stdout",
     "output_type": "stream",
     "text": [
      "[[9 3]\n",
      " [0 8]]\n",
      "              precision    recall  f1-score   support\n",
      "\n",
      "         0.0       1.00      0.75      0.86        12\n",
      "         1.0       0.73      1.00      0.84         8\n",
      "\n",
      "    accuracy                           0.85        20\n",
      "   macro avg       0.86      0.88      0.85        20\n",
      "weighted avg       0.89      0.85      0.85        20\n",
      "\n"
     ]
    }
   ],
   "source": [
    "tf_vectorizer = CountVectorizer(ngram_range=(1, 1))\n",
    "train_x_tf = tf_vectorizer.fit_transform(train_x)\n",
    "test_x_tf = tf_vectorizer.transform(test_x)\n",
    "clf = LogisticRegression()\n",
    "clf.fit(train_x_tf, train_y)\n",
    "opt = clf.predict(test_x_tf)\n",
    "classification_report1 = evaluate(opt, test_y)"
   ]
  },
  {
   "cell_type": "markdown",
   "metadata": {},
   "source": [
    "Logistical Regression 2-gram"
   ]
  },
  {
   "cell_type": "code",
   "execution_count": 57,
   "metadata": {},
   "outputs": [
    {
     "name": "stdout",
     "output_type": "stream",
     "text": [
      "[[8 4]\n",
      " [1 7]]\n",
      "              precision    recall  f1-score   support\n",
      "\n",
      "         0.0       0.89      0.67      0.76        12\n",
      "         1.0       0.64      0.88      0.74         8\n",
      "\n",
      "    accuracy                           0.75        20\n",
      "   macro avg       0.76      0.77      0.75        20\n",
      "weighted avg       0.79      0.75      0.75        20\n",
      "\n"
     ]
    }
   ],
   "source": [
    "tf_vectorizer = CountVectorizer(ngram_range=(1, 2))\n",
    "train_x_tf = tf_vectorizer.fit_transform(train_x)\n",
    "test_x_tf = tf_vectorizer.transform(test_x)\n",
    "clf = LogisticRegression()\n",
    "clf.fit(train_x_tf, train_y)\n",
    "opt = clf.predict(test_x_tf)\n",
    "classification_report2 = evaluate(opt, test_y)"
   ]
  },
  {
   "cell_type": "markdown",
   "metadata": {},
   "source": [
    "Logistical Regression 3-gram"
   ]
  },
  {
   "cell_type": "code",
   "execution_count": 58,
   "metadata": {},
   "outputs": [
    {
     "name": "stdout",
     "output_type": "stream",
     "text": [
      "[[8 5]\n",
      " [1 6]]\n",
      "              precision    recall  f1-score   support\n",
      "\n",
      "         0.0       0.89      0.62      0.73        13\n",
      "         1.0       0.55      0.86      0.67         7\n",
      "\n",
      "    accuracy                           0.70        20\n",
      "   macro avg       0.72      0.74      0.70        20\n",
      "weighted avg       0.77      0.70      0.71        20\n",
      "\n"
     ]
    }
   ],
   "source": [
    "tf_vectorizer = CountVectorizer(ngram_range=(1, 3))\n",
    "train_x_tf = tf_vectorizer.fit_transform(train_x)\n",
    "test_x_tf = tf_vectorizer.transform(test_x)\n",
    "clf = LogisticRegression()\n",
    "clf.fit(train_x_tf, train_y)\n",
    "opt = clf.predict(test_x_tf)\n",
    "classification_report3 = evaluate(opt, test_y)"
   ]
  },
  {
   "cell_type": "markdown",
   "metadata": {},
   "source": [
    "Logistical Regression 4-gram"
   ]
  },
  {
   "cell_type": "code",
   "execution_count": 59,
   "metadata": {},
   "outputs": [
    {
     "name": "stdout",
     "output_type": "stream",
     "text": [
      "[[8 7]\n",
      " [1 4]]\n",
      "              precision    recall  f1-score   support\n",
      "\n",
      "         0.0       0.89      0.53      0.67        15\n",
      "         1.0       0.36      0.80      0.50         5\n",
      "\n",
      "    accuracy                           0.60        20\n",
      "   macro avg       0.63      0.67      0.58        20\n",
      "weighted avg       0.76      0.60      0.63        20\n",
      "\n"
     ]
    }
   ],
   "source": [
    "tf_vectorizer = CountVectorizer(ngram_range=(1, 4))\n",
    "train_x_tf = tf_vectorizer.fit_transform(train_x)\n",
    "test_x_tf = tf_vectorizer.transform(test_x)\n",
    "clf = LogisticRegression()\n",
    "clf.fit(train_x_tf, train_y)\n",
    "opt = clf.predict(test_x_tf)\n",
    "classification_report4 = evaluate(opt, test_y)"
   ]
  },
  {
   "cell_type": "markdown",
   "metadata": {},
   "source": [
    "Logistical Regression 5-gram"
   ]
  },
  {
   "cell_type": "code",
   "execution_count": 60,
   "metadata": {},
   "outputs": [
    {
     "name": "stdout",
     "output_type": "stream",
     "text": [
      "[[8 7]\n",
      " [1 4]]\n",
      "              precision    recall  f1-score   support\n",
      "\n",
      "         0.0       0.89      0.53      0.67        15\n",
      "         1.0       0.36      0.80      0.50         5\n",
      "\n",
      "    accuracy                           0.60        20\n",
      "   macro avg       0.63      0.67      0.58        20\n",
      "weighted avg       0.76      0.60      0.63        20\n",
      "\n"
     ]
    }
   ],
   "source": [
    "tf_vectorizer = CountVectorizer(ngram_range=(1, 5))\n",
    "train_x_tf = tf_vectorizer.fit_transform(train_x)\n",
    "test_x_tf = tf_vectorizer.transform(test_x)\n",
    "clf = LogisticRegression()\n",
    "clf.fit(train_x_tf, train_y)\n",
    "opt = clf.predict(test_x_tf)\n",
    "classification_report5 = evaluate(opt, test_y)"
   ]
  },
  {
   "cell_type": "markdown",
   "metadata": {},
   "source": [
    "Logistical Regression 6-gram"
   ]
  },
  {
   "cell_type": "code",
   "execution_count": 61,
   "metadata": {},
   "outputs": [
    {
     "name": "stdout",
     "output_type": "stream",
     "text": [
      "[[8 7]\n",
      " [1 4]]\n",
      "              precision    recall  f1-score   support\n",
      "\n",
      "         0.0       0.89      0.53      0.67        15\n",
      "         1.0       0.36      0.80      0.50         5\n",
      "\n",
      "    accuracy                           0.60        20\n",
      "   macro avg       0.63      0.67      0.58        20\n",
      "weighted avg       0.76      0.60      0.63        20\n",
      "\n"
     ]
    }
   ],
   "source": [
    "tf_vectorizer = CountVectorizer(ngram_range=(1, 6))\n",
    "train_x_tf = tf_vectorizer.fit_transform(train_x)\n",
    "test_x_tf = tf_vectorizer.transform(test_x)\n",
    "clf = LogisticRegression()\n",
    "clf.fit(train_x_tf, train_y)\n",
    "opt = clf.predict(test_x_tf)\n",
    "classification_report6 = evaluate(opt, test_y)"
   ]
  },
  {
   "cell_type": "markdown",
   "metadata": {},
   "source": [
    "Logistical Regression 7-gram"
   ]
  },
  {
   "cell_type": "code",
   "execution_count": 62,
   "metadata": {},
   "outputs": [
    {
     "name": "stdout",
     "output_type": "stream",
     "text": [
      "[[8 7]\n",
      " [1 4]]\n",
      "              precision    recall  f1-score   support\n",
      "\n",
      "         0.0       0.89      0.53      0.67        15\n",
      "         1.0       0.36      0.80      0.50         5\n",
      "\n",
      "    accuracy                           0.60        20\n",
      "   macro avg       0.63      0.67      0.58        20\n",
      "weighted avg       0.76      0.60      0.63        20\n",
      "\n"
     ]
    }
   ],
   "source": [
    "tf_vectorizer = CountVectorizer(ngram_range=(1, 7))\n",
    "train_x_tf = tf_vectorizer.fit_transform(train_x)\n",
    "test_x_tf = tf_vectorizer.transform(test_x)\n",
    "clf = LogisticRegression()\n",
    "clf.fit(train_x_tf, train_y)\n",
    "opt = clf.predict(test_x_tf)\n",
    "classification_report7 = evaluate(opt, test_y)"
   ]
  },
  {
   "cell_type": "markdown",
   "metadata": {},
   "source": [
    "Logistical Regression 8-gram"
   ]
  },
  {
   "cell_type": "code",
   "execution_count": 63,
   "metadata": {},
   "outputs": [
    {
     "name": "stdout",
     "output_type": "stream",
     "text": [
      "[[8 7]\n",
      " [1 4]]\n",
      "              precision    recall  f1-score   support\n",
      "\n",
      "         0.0       0.89      0.53      0.67        15\n",
      "         1.0       0.36      0.80      0.50         5\n",
      "\n",
      "    accuracy                           0.60        20\n",
      "   macro avg       0.63      0.67      0.58        20\n",
      "weighted avg       0.76      0.60      0.63        20\n",
      "\n"
     ]
    }
   ],
   "source": [
    "tf_vectorizer = CountVectorizer(ngram_range=(1, 8))\n",
    "train_x_tf = tf_vectorizer.fit_transform(train_x)\n",
    "test_x_tf = tf_vectorizer.transform(test_x)\n",
    "clf = LogisticRegression()\n",
    "clf.fit(train_x_tf, train_y)\n",
    "opt = clf.predict(test_x_tf)\n",
    "classification_report8 = evaluate(opt, test_y)"
   ]
  },
  {
   "cell_type": "markdown",
   "metadata": {},
   "source": [
    "Logistical Regression 9-gram"
   ]
  },
  {
   "cell_type": "code",
   "execution_count": 64,
   "metadata": {},
   "outputs": [
    {
     "name": "stdout",
     "output_type": "stream",
     "text": [
      "[[8 7]\n",
      " [1 4]]\n",
      "              precision    recall  f1-score   support\n",
      "\n",
      "         0.0       0.89      0.53      0.67        15\n",
      "         1.0       0.36      0.80      0.50         5\n",
      "\n",
      "    accuracy                           0.60        20\n",
      "   macro avg       0.63      0.67      0.58        20\n",
      "weighted avg       0.76      0.60      0.63        20\n",
      "\n"
     ]
    }
   ],
   "source": [
    "tf_vectorizer = CountVectorizer(ngram_range=(1, 9))\n",
    "train_x_tf = tf_vectorizer.fit_transform(train_x)\n",
    "test_x_tf = tf_vectorizer.transform(test_x)\n",
    "clf = LogisticRegression()\n",
    "clf.fit(train_x_tf, train_y)\n",
    "opt = clf.predict(test_x_tf)\n",
    "classification_report9 = evaluate(opt, test_y)\n"
   ]
  },
  {
   "cell_type": "markdown",
   "metadata": {},
   "source": [
    "Logistical Regression 10-gram"
   ]
  },
  {
   "cell_type": "code",
   "execution_count": 65,
   "metadata": {},
   "outputs": [
    {
     "name": "stdout",
     "output_type": "stream",
     "text": [
      "[[8 7]\n",
      " [1 4]]\n",
      "              precision    recall  f1-score   support\n",
      "\n",
      "         0.0       0.89      0.53      0.67        15\n",
      "         1.0       0.36      0.80      0.50         5\n",
      "\n",
      "    accuracy                           0.60        20\n",
      "   macro avg       0.63      0.67      0.58        20\n",
      "weighted avg       0.76      0.60      0.63        20\n",
      "\n"
     ]
    }
   ],
   "source": [
    "tf_vectorizer = CountVectorizer(ngram_range=(1, 10))\n",
    "train_x_tf = tf_vectorizer.fit_transform(train_x)\n",
    "test_x_tf = tf_vectorizer.transform(test_x)\n",
    "clf = LogisticRegression()\n",
    "clf.fit(train_x_tf, train_y)\n",
    "opt = clf.predict(test_x_tf)\n",
    "classification_report10 = evaluate(opt, test_y)"
   ]
  },
  {
   "cell_type": "markdown",
   "metadata": {},
   "source": [
    "Plots"
   ]
  },
  {
   "cell_type": "code",
   "execution_count": 66,
   "metadata": {},
   "outputs": [
    {
     "name": "stdout",
     "output_type": "stream",
     "text": [
      "precision\n"
     ]
    },
    {
     "data": {
      "image/png": "[encoded data removed]",
      "text/plain": [
       "<Figure size 432x288 with 1 Axes>"
      ]
     },
     "metadata": {
      "needs_background": "light"
     },
     "output_type": "display_data"
    },
    {
     "name": "stdout",
     "output_type": "stream",
     "text": [
      "recall\n"
     ]
    },
    {
     "data": {
      "image/png": "[encoded data removed]",
      "text/plain": [
       "<Figure size 432x288 with 1 Axes>"
      ]
     },
     "metadata": {
      "needs_background": "light"
     },
     "output_type": "display_data"
    },
    {
     "name": "stdout",
     "output_type": "stream",
     "text": [
      "f1-score\n"
     ]
    },
    {
     "data": {
      "image/png": "[encoded data removed]",
      "text/plain": [
       "<Figure size 432x288 with 1 Axes>"
      ]
     },
     "metadata": {
      "needs_background": "light"
     },
     "output_type": "display_data"
    }
   ],
   "source": [
    "import matplotlib.pyplot as plt\n",
    "\n",
    "print(\"precision\")\n",
    "plt.bar(\n",
    "    range(10),\n",
    "    [\n",
    "        classification_report1[0][0],\n",
    "        classification_report2[0][0],\n",
    "        classification_report3[0][0],\n",
    "        classification_report4[0][0],\n",
    "        classification_report5[0][0],\n",
    "        classification_report6[0][0],\n",
    "        classification_report7[0][0],\n",
    "        classification_report8[0][0],\n",
    "        classification_report9[0][0],\n",
    "        classification_report10[0][0],\n",
    "    ],\n",
    ")\n",
    "plt.show()\n",
    "print(\"recall\")\n",
    "plt.clf()\n",
    "plt.bar(\n",
    "    range(10),\n",
    "    [\n",
    "        classification_report1[1][0],\n",
    "        classification_report2[1][0],\n",
    "        classification_report3[1][0],\n",
    "        classification_report4[1][0],\n",
    "        classification_report5[1][0],\n",
    "        classification_report6[1][0],\n",
    "        classification_report7[1][0],\n",
    "        classification_report8[1][0],\n",
    "        classification_report9[1][0],\n",
    "        classification_report10[1][0],\n",
    "    ],\n",
    ")\n",
    "plt.show()\n",
    "print(\"f1-score\")\n",
    "plt.clf()\n",
    "plt.bar(\n",
    "    range(10),\n",
    "    [\n",
    "        classification_report1[2][0],\n",
    "        classification_report2[2][0],\n",
    "        classification_report3[2][0],\n",
    "        classification_report4[2][0],\n",
    "        classification_report5[2][0],\n",
    "        classification_report6[2][0],\n",
    "        classification_report7[2][0],\n",
    "        classification_report8[2][0],\n",
    "        classification_report9[2][0],\n",
    "        classification_report10[2][0],\n",
    "    ],\n",
    ")\n",
    "plt.show()"
   ]
  }
 ],
 "metadata": {
  "interpreter": {
   "hash": "2db524e06e9f5f4ffedc911c917cb75e12dbc923643829bf417064a77eb14d37"
  },
  "kernelspec": {
   "display_name": "Python 3.8.3 64-bit",
   "language": "python",
   "name": "python3"
  },
  "language_info": {
   "codemirror_mode": {
    "name": "ipython",
    "version": 3
   },
   "file_extension": ".py",
   "mimetype": "text/x-python",
   "name": "python",
   "nbconvert_exporter": "python",
   "pygments_lexer": "ipython3",
   "version": "3.8.3"
  },
  "orig_nbformat": 4
 },
 "nbformat": 4,
 "nbformat_minor": 2
}
